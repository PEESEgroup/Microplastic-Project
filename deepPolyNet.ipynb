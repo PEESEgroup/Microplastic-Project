{
 "cells": [
  {
   "cell_type": "code",
   "execution_count": 1,
   "metadata": {},
   "outputs": [],
   "source": [
    "import os, shutil,shutil, random\n",
    "import tensorflow as tf\n",
    "import matplotlib.pyplot as plt\n",
    "import csv\n",
    "import math\n",
    "import matplotlib.pyplot as plt\n",
    "import numpy as np\n",
    "from tensorflow.keras import applications\n",
    "from tensorflow.keras.callbacks import ModelCheckpoint\n",
    "from tensorflow.keras.preprocessing import image\n",
    "from tensorflow.keras.preprocessing.image import ImageDataGenerator\n",
    "from tensorflow.keras import optimizers\n",
    "from tensorflow.keras.models import Sequential, Model\n",
    "from tensorflow.keras.layers import Dropout, Flatten, Dense, Input, GlobalAveragePooling2D\n",
    "from tensorflow.keras.initializers import glorot_uniform\n",
    "from tensorflow.keras.applications.vgg16 import preprocess_input"
   ]
  },
  {
   "cell_type": "code",
   "execution_count": 2,
   "metadata": {},
   "outputs": [
    {
     "name": "stdout",
     "output_type": "stream",
     "text": [
      "Found 320 images belonging to 8 classes.\n",
      "Found 80 images belonging to 8 classes.\n"
     ]
    }
   ],
   "source": [
    "# Set the path to your image dataset\n",
    "data_path = \"your folder\"\n",
    "\n",
    "# Define the parameters for the ImageDataGenerator\n",
    "batch_size = 1\n",
    "img_height = 400\n",
    "img_width = 400\n",
    "validation_split = 0.2\n",
    "\n",
    "# Use the ImageDataGenerator to load and preprocess the images\n",
    "train_datagen = tf.keras.preprocessing.image.ImageDataGenerator(\n",
    "    rescale=1./255,\n",
    "    validation_split=validation_split\n",
    ")\n",
    "\n",
    "train_generator = train_datagen.flow_from_directory(\n",
    "    data_path,\n",
    "    target_size=(img_height, img_width),\n",
    "    batch_size=batch_size,\n",
    "    shuffle=False,\n",
    "    class_mode='categorical',\n",
    "    subset='training'\n",
    ")\n",
    "\n",
    "validation_generator = train_datagen.flow_from_directory(\n",
    "    data_path,\n",
    "    target_size=(img_height, img_width),\n",
    "    batch_size=batch_size,\n",
    "    shuffle=False,\n",
    "    class_mode='categorical',\n",
    "    subset='validation'\n",
    ")\n",
    "\n",
    "# Split the data into training and testing sets\n",
    "x_train, y_train = train_generator.next()\n",
    "x_test, y_test = validation_generator.next()"
   ]
  },
  {
   "cell_type": "code",
   "execution_count": 3,
   "metadata": {},
   "outputs": [
    {
     "name": "stdout",
     "output_type": "stream",
     "text": [
      "Model: \"model\"\n",
      "_________________________________________________________________\n",
      " Layer (type)                Output Shape              Param #   \n",
      "=================================================================\n",
      " input_1 (InputLayer)        [(None, 400, 400, 3)]     0         \n",
      "                                                                 \n",
      " block1_conv1 (Conv2D)       (None, 400, 400, 64)      1792      \n",
      "                                                                 \n",
      " block1_conv2 (Conv2D)       (None, 400, 400, 64)      36928     \n",
      "                                                                 \n",
      " block1_pool (MaxPooling2D)  (None, 200, 200, 64)      0         \n",
      "                                                                 \n",
      " block2_conv1 (Conv2D)       (None, 200, 200, 128)     73856     \n",
      "                                                                 \n",
      " block2_conv2 (Conv2D)       (None, 200, 200, 128)     147584    \n",
      "                                                                 \n",
      " block2_pool (MaxPooling2D)  (None, 100, 100, 128)     0         \n",
      "                                                                 \n",
      " block3_conv1 (Conv2D)       (None, 100, 100, 256)     295168    \n",
      "                                                                 \n",
      " block3_conv2 (Conv2D)       (None, 100, 100, 256)     590080    \n",
      "                                                                 \n",
      " block3_conv3 (Conv2D)       (None, 100, 100, 256)     590080    \n",
      "                                                                 \n",
      " block3_pool (MaxPooling2D)  (None, 50, 50, 256)       0         \n",
      "                                                                 \n",
      " block4_conv1 (Conv2D)       (None, 50, 50, 512)       1180160   \n",
      "                                                                 \n",
      " block4_conv2 (Conv2D)       (None, 50, 50, 512)       2359808   \n",
      "                                                                 \n",
      " block4_conv3 (Conv2D)       (None, 50, 50, 512)       2359808   \n",
      "                                                                 \n",
      " block4_pool (MaxPooling2D)  (None, 25, 25, 512)       0         \n",
      "                                                                 \n",
      " block5_conv1 (Conv2D)       (None, 25, 25, 512)       2359808   \n",
      "                                                                 \n",
      " block5_conv2 (Conv2D)       (None, 25, 25, 512)       2359808   \n",
      "                                                                 \n",
      " block5_conv3 (Conv2D)       (None, 25, 25, 512)       2359808   \n",
      "                                                                 \n",
      " block5_pool (MaxPooling2D)  (None, 12, 12, 512)       0         \n",
      "                                                                 \n",
      " global_average_pooling2d (G  (None, 512)              0         \n",
      " lobalAveragePooling2D)                                          \n",
      "                                                                 \n",
      " dense (Dense)               (None, 1000)              513000    \n",
      "                                                                 \n",
      " dense_1 (Dense)             (None, 256)               256256    \n",
      "                                                                 \n",
      " output (Dense)              (None, 8)                 2056      \n",
      "                                                                 \n",
      "=================================================================\n",
      "Total params: 15,486,000\n",
      "Trainable params: 10,210,544\n",
      "Non-trainable params: 5,275,456\n",
      "_________________________________________________________________\n"
     ]
    }
   ],
   "source": [
    "image_size = 400\n",
    "input_shape = (image_size, image_size, 3)\n",
    "batch_size = 1\n",
    "\n",
    "model = applications.VGG16(input_shape=input_shape, include_top=False, weights='imagenet')\n",
    "\n",
    "x = GlobalAveragePooling2D()(model.output)\n",
    "x=Dense(1000)(x)\n",
    "x = Dense(256, activation='relu', kernel_initializer='glorot_normal')(x)\n",
    "x = Dense(8, activation='softmax', name='output', kernel_initializer='glorot_normal')(x)\n",
    "\n",
    "# add new classifier model on top of convolutional base\n",
    "new_model = Model(model.input, x)\n",
    "\n",
    "for layer in new_model.layers[:13]:\n",
    "    layer.trainable = False\n",
    "new_model.summary()"
   ]
  },
  {
   "cell_type": "code",
   "execution_count": 4,
   "metadata": {},
   "outputs": [
    {
     "name": "stderr",
     "output_type": "stream",
     "text": [
      "C:\\Users\\mrche\\anaconda3\\lib\\site-packages\\keras\\optimizers\\optimizer_v2\\adam.py:114: UserWarning: The `lr` argument is deprecated, use `learning_rate` instead.\n",
      "  super().__init__(name, **kwargs)\n"
     ]
    }
   ],
   "source": [
    "## Model compile and history check\n",
    "new_model.compile(optimizer=tf.keras.optimizers.Adam(lr=0.0001),\n",
    "    loss='categorical_crossentropy',\n",
    "    metrics = ['accuracy'])\n",
    "\n",
    "es = tf.keras.callbacks.EarlyStopping(monitor='val_loss',\n",
    "    mode='min',\n",
    "    restore_best_weights=True, \n",
    "    verbose=1,\n",
    "    patience=5)"
   ]
  },
  {
   "cell_type": "code",
   "execution_count": 5,
   "metadata": {},
   "outputs": [
    {
     "name": "stdout",
     "output_type": "stream",
     "text": [
      "Epoch 1/100\n"
     ]
    },
    {
     "name": "stderr",
     "output_type": "stream",
     "text": [
      "C:\\Users\\mrche\\AppData\\Local\\Temp\\ipykernel_21716\\2494535653.py:4: UserWarning: `Model.fit_generator` is deprecated and will be removed in a future version. Please use `Model.fit`, which supports generators.\n",
      "  history = new_model.fit_generator(\n"
     ]
    },
    {
     "name": "stdout",
     "output_type": "stream",
     "text": [
      "320/320 [==============================] - ETA: 0s - loss: 1.4823 - accuracy: 0.4187WARNING:tensorflow:Can save best model only with val_acc available, skipping.\n",
      "320/320 [==============================] - 129s 400ms/step - loss: 1.4823 - accuracy: 0.4187 - val_loss: 0.7321 - val_accuracy: 0.6625\n",
      "Epoch 2/100\n",
      "320/320 [==============================] - ETA: 0s - loss: 0.4963 - accuracy: 0.8313WARNING:tensorflow:Can save best model only with val_acc available, skipping.\n",
      "320/320 [==============================] - 126s 393ms/step - loss: 0.4963 - accuracy: 0.8313 - val_loss: 0.6540 - val_accuracy: 0.7500\n",
      "Epoch 3/100\n",
      "320/320 [==============================] - ETA: 0s - loss: 0.4244 - accuracy: 0.8813WARNING:tensorflow:Can save best model only with val_acc available, skipping.\n",
      "320/320 [==============================] - 132s 413ms/step - loss: 0.4244 - accuracy: 0.8813 - val_loss: 0.6154 - val_accuracy: 0.8000\n",
      "Epoch 4/100\n",
      "320/320 [==============================] - ETA: 0s - loss: 0.2906 - accuracy: 0.9187WARNING:tensorflow:Can save best model only with val_acc available, skipping.\n",
      "320/320 [==============================] - 127s 398ms/step - loss: 0.2906 - accuracy: 0.9187 - val_loss: 0.9726 - val_accuracy: 0.7375\n",
      "Epoch 5/100\n",
      "320/320 [==============================] - ETA: 0s - loss: 0.2776 - accuracy: 0.9187WARNING:tensorflow:Can save best model only with val_acc available, skipping.\n",
      "320/320 [==============================] - 133s 417ms/step - loss: 0.2776 - accuracy: 0.9187 - val_loss: 0.4391 - val_accuracy: 0.8250\n",
      "Epoch 6/100\n",
      "320/320 [==============================] - ETA: 0s - loss: 0.2390 - accuracy: 0.9344WARNING:tensorflow:Can save best model only with val_acc available, skipping.\n",
      "320/320 [==============================] - 133s 416ms/step - loss: 0.2390 - accuracy: 0.9344 - val_loss: 0.5204 - val_accuracy: 0.8000\n",
      "Epoch 7/100\n",
      "320/320 [==============================] - ETA: 0s - loss: 0.0482 - accuracy: 0.9906WARNING:tensorflow:Can save best model only with val_acc available, skipping.\n",
      "320/320 [==============================] - 132s 412ms/step - loss: 0.0482 - accuracy: 0.9906 - val_loss: 1.0952 - val_accuracy: 0.8250\n",
      "Epoch 8/100\n",
      "320/320 [==============================] - ETA: 0s - loss: 0.1677 - accuracy: 0.9688WARNING:tensorflow:Can save best model only with val_acc available, skipping.\n",
      "320/320 [==============================] - 128s 401ms/step - loss: 0.1677 - accuracy: 0.9688 - val_loss: 0.0568 - val_accuracy: 0.9875\n",
      "Epoch 9/100\n",
      "320/320 [==============================] - ETA: 0s - loss: 0.0192 - accuracy: 0.9937WARNING:tensorflow:Can save best model only with val_acc available, skipping.\n",
      "320/320 [==============================] - 134s 419ms/step - loss: 0.0192 - accuracy: 0.9937 - val_loss: 0.0567 - val_accuracy: 0.9750\n",
      "Epoch 10/100\n",
      "320/320 [==============================] - ETA: 0s - loss: 0.0271 - accuracy: 0.9937WARNING:tensorflow:Can save best model only with val_acc available, skipping.\n",
      "320/320 [==============================] - 131s 409ms/step - loss: 0.0271 - accuracy: 0.9937 - val_loss: 0.3307 - val_accuracy: 0.9000\n",
      "Epoch 11/100\n",
      "320/320 [==============================] - ETA: 0s - loss: 0.2729 - accuracy: 0.9187WARNING:tensorflow:Can save best model only with val_acc available, skipping.\n",
      "320/320 [==============================] - 121s 379ms/step - loss: 0.2729 - accuracy: 0.9187 - val_loss: 0.0891 - val_accuracy: 0.9750\n",
      "Epoch 12/100\n",
      "320/320 [==============================] - ETA: 0s - loss: 0.0022 - accuracy: 1.0000WARNING:tensorflow:Can save best model only with val_acc available, skipping.\n",
      "320/320 [==============================] - 120s 376ms/step - loss: 0.0022 - accuracy: 1.0000 - val_loss: 0.0674 - val_accuracy: 0.9875\n",
      "Epoch 13/100\n",
      "320/320 [==============================] - ETA: 0s - loss: 1.8182e-04 - accuracy: 1.0000WARNING:tensorflow:Can save best model only with val_acc available, skipping.\n",
      "320/320 [==============================] - 121s 377ms/step - loss: 1.8182e-04 - accuracy: 1.0000 - val_loss: 0.0246 - val_accuracy: 0.9875\n",
      "Epoch 14/100\n",
      "320/320 [==============================] - ETA: 0s - loss: 3.9032e-05 - accuracy: 1.0000WARNING:tensorflow:Can save best model only with val_acc available, skipping.\n",
      "320/320 [==============================] - 121s 377ms/step - loss: 3.9032e-05 - accuracy: 1.0000 - val_loss: 0.0490 - val_accuracy: 0.9875\n",
      "Epoch 15/100\n",
      "320/320 [==============================] - ETA: 0s - loss: 1.0748e-05 - accuracy: 1.0000WARNING:tensorflow:Can save best model only with val_acc available, skipping.\n",
      "320/320 [==============================] - 121s 379ms/step - loss: 1.0748e-05 - accuracy: 1.0000 - val_loss: 0.0693 - val_accuracy: 0.9875\n",
      "Epoch 16/100\n",
      "320/320 [==============================] - ETA: 0s - loss: 6.5375e-06 - accuracy: 1.0000WARNING:tensorflow:Can save best model only with val_acc available, skipping.\n",
      "320/320 [==============================] - 121s 377ms/step - loss: 6.5375e-06 - accuracy: 1.0000 - val_loss: 0.0686 - val_accuracy: 0.9875\n",
      "Epoch 17/100\n",
      "320/320 [==============================] - ETA: 0s - loss: 3.4513e-06 - accuracy: 1.0000WARNING:tensorflow:Can save best model only with val_acc available, skipping.\n",
      "320/320 [==============================] - 121s 379ms/step - loss: 3.4513e-06 - accuracy: 1.0000 - val_loss: 0.0666 - val_accuracy: 0.9875\n",
      "Epoch 18/100\n",
      "320/320 [==============================] - ETA: 0s - loss: 2.1375e-06 - accuracy: 1.0000WARNING:tensorflow:Can save best model only with val_acc available, skipping.\n",
      "320/320 [==============================] - 121s 377ms/step - loss: 2.1375e-06 - accuracy: 1.0000 - val_loss: 0.0644 - val_accuracy: 0.9875\n",
      "Epoch 19/100\n",
      "320/320 [==============================] - ETA: 0s - loss: 1.4059e-06 - accuracy: 1.0000WARNING:tensorflow:Can save best model only with val_acc available, skipping.\n",
      "320/320 [==============================] - 121s 379ms/step - loss: 1.4059e-06 - accuracy: 1.0000 - val_loss: 0.0608 - val_accuracy: 0.9875\n",
      "Epoch 20/100\n",
      "320/320 [==============================] - ETA: 0s - loss: 9.5739e-07 - accuracy: 1.0000WARNING:tensorflow:Can save best model only with val_acc available, skipping.\n",
      "320/320 [==============================] - 120s 377ms/step - loss: 9.5739e-07 - accuracy: 1.0000 - val_loss: 0.0632 - val_accuracy: 0.9875\n",
      "Epoch 21/100\n",
      "320/320 [==============================] - ETA: 0s - loss: 5.9269e-07 - accuracy: 1.0000WARNING:tensorflow:Can save best model only with val_acc available, skipping.\n",
      "320/320 [==============================] - 120s 376ms/step - loss: 5.9269e-07 - accuracy: 1.0000 - val_loss: 0.0631 - val_accuracy: 0.9875\n",
      "Epoch 22/100\n",
      "320/320 [==============================] - ETA: 0s - loss: 3.9078e-07 - accuracy: 1.0000WARNING:tensorflow:Can save best model only with val_acc available, skipping.\n",
      "320/320 [==============================] - 121s 377ms/step - loss: 3.9078e-07 - accuracy: 1.0000 - val_loss: 0.0655 - val_accuracy: 0.9875\n",
      "Epoch 23/100\n",
      "320/320 [==============================] - ETA: 0s - loss: 2.6710e-07 - accuracy: 1.0000WARNING:tensorflow:Can save best model only with val_acc available, skipping.\n",
      "320/320 [==============================] - 121s 377ms/step - loss: 2.6710e-07 - accuracy: 1.0000 - val_loss: 0.0665 - val_accuracy: 0.9875\n",
      "Epoch 24/100\n",
      "320/320 [==============================] - ETA: 0s - loss: 1.8589e-07 - accuracy: 1.0000WARNING:tensorflow:Can save best model only with val_acc available, skipping.\n",
      "320/320 [==============================] - 121s 378ms/step - loss: 1.8589e-07 - accuracy: 1.0000 - val_loss: 0.0615 - val_accuracy: 0.9875\n",
      "Epoch 25/100\n",
      "320/320 [==============================] - ETA: 0s - loss: 1.3597e-07 - accuracy: 1.0000WARNING:tensorflow:Can save best model only with val_acc available, skipping.\n",
      "320/320 [==============================] - 120s 376ms/step - loss: 1.3597e-07 - accuracy: 1.0000 - val_loss: 0.0638 - val_accuracy: 0.9875\n",
      "Epoch 26/100\n",
      "320/320 [==============================] - ETA: 0s - loss: 9.6857e-08 - accuracy: 1.0000WARNING:tensorflow:Can save best model only with val_acc available, skipping.\n",
      "320/320 [==============================] - 121s 378ms/step - loss: 9.6857e-08 - accuracy: 1.0000 - val_loss: 0.0623 - val_accuracy: 0.9875\n",
      "Epoch 27/100\n"
     ]
    },
    {
     "name": "stdout",
     "output_type": "stream",
     "text": [
      "320/320 [==============================] - ETA: 0s - loss: 7.5623e-08 - accuracy: 1.0000WARNING:tensorflow:Can save best model only with val_acc available, skipping.\n",
      "320/320 [==============================] - 120s 375ms/step - loss: 7.5623e-08 - accuracy: 1.0000 - val_loss: 0.0632 - val_accuracy: 0.9875\n",
      "Epoch 28/100\n",
      "320/320 [==============================] - ETA: 0s - loss: 5.6252e-08 - accuracy: 1.0000WARNING:tensorflow:Can save best model only with val_acc available, skipping.\n",
      "320/320 [==============================] - 120s 376ms/step - loss: 5.6252e-08 - accuracy: 1.0000 - val_loss: 0.0608 - val_accuracy: 0.9875\n",
      "Epoch 29/100\n",
      "320/320 [==============================] - ETA: 0s - loss: 4.4703e-08 - accuracy: 1.0000WARNING:tensorflow:Can save best model only with val_acc available, skipping.\n",
      "320/320 [==============================] - 121s 377ms/step - loss: 4.4703e-08 - accuracy: 1.0000 - val_loss: 0.0595 - val_accuracy: 0.9875\n",
      "Epoch 30/100\n",
      "320/320 [==============================] - ETA: 0s - loss: 3.4273e-08 - accuracy: 1.0000WARNING:tensorflow:Can save best model only with val_acc available, skipping.\n",
      "320/320 [==============================] - 120s 376ms/step - loss: 3.4273e-08 - accuracy: 1.0000 - val_loss: 0.0609 - val_accuracy: 0.9875\n",
      "Epoch 31/100\n",
      "320/320 [==============================] - ETA: 0s - loss: 2.8685e-08 - accuracy: 1.0000WARNING:tensorflow:Can save best model only with val_acc available, skipping.\n",
      "320/320 [==============================] - 120s 376ms/step - loss: 2.8685e-08 - accuracy: 1.0000 - val_loss: 0.0591 - val_accuracy: 0.9875\n",
      "Epoch 32/100\n",
      "320/320 [==============================] - ETA: 0s - loss: 2.1607e-08 - accuracy: 1.0000WARNING:tensorflow:Can save best model only with val_acc available, skipping.\n",
      "320/320 [==============================] - 121s 378ms/step - loss: 2.1607e-08 - accuracy: 1.0000 - val_loss: 0.0559 - val_accuracy: 0.9875\n",
      "Epoch 33/100\n",
      "320/320 [==============================] - ETA: 0s - loss: 1.8626e-08 - accuracy: 1.0000WARNING:tensorflow:Can save best model only with val_acc available, skipping.\n",
      "320/320 [==============================] - 120s 376ms/step - loss: 1.8626e-08 - accuracy: 1.0000 - val_loss: 0.0565 - val_accuracy: 0.9875\n",
      "Epoch 34/100\n",
      "320/320 [==============================] - ETA: 0s - loss: 1.4529e-08 - accuracy: 1.0000WARNING:tensorflow:Can save best model only with val_acc available, skipping.\n",
      "320/320 [==============================] - 121s 378ms/step - loss: 1.4529e-08 - accuracy: 1.0000 - val_loss: 0.0571 - val_accuracy: 0.9875\n",
      "Epoch 35/100\n",
      "320/320 [==============================] - ETA: 0s - loss: 1.3039e-08 - accuracy: 1.0000WARNING:tensorflow:Can save best model only with val_acc available, skipping.\n",
      "320/320 [==============================] - 120s 376ms/step - loss: 1.3039e-08 - accuracy: 1.0000 - val_loss: 0.0574 - val_accuracy: 0.9875\n",
      "Epoch 36/100\n",
      "320/320 [==============================] - ETA: 0s - loss: 1.0058e-08 - accuracy: 1.0000WARNING:tensorflow:Can save best model only with val_acc available, skipping.\n",
      "320/320 [==============================] - 121s 377ms/step - loss: 1.0058e-08 - accuracy: 1.0000 - val_loss: 0.0535 - val_accuracy: 0.9875\n",
      "Epoch 37/100\n",
      "320/320 [==============================] - ETA: 0s - loss: 9.3132e-09 - accuracy: 1.0000WARNING:tensorflow:Can save best model only with val_acc available, skipping.\n",
      "320/320 [==============================] - 120s 376ms/step - loss: 9.3132e-09 - accuracy: 1.0000 - val_loss: 0.0542 - val_accuracy: 0.9875\n",
      "Epoch 38/100\n",
      "320/320 [==============================] - ETA: 0s - loss: 8.5682e-09 - accuracy: 1.0000WARNING:tensorflow:Can save best model only with val_acc available, skipping.\n",
      "320/320 [==============================] - 120s 376ms/step - loss: 8.5682e-09 - accuracy: 1.0000 - val_loss: 0.0522 - val_accuracy: 0.9875\n",
      "Epoch 39/100\n",
      "320/320 [==============================] - ETA: 0s - loss: 7.0781e-09 - accuracy: 1.0000WARNING:tensorflow:Can save best model only with val_acc available, skipping.\n",
      "320/320 [==============================] - 120s 376ms/step - loss: 7.0781e-09 - accuracy: 1.0000 - val_loss: 0.0500 - val_accuracy: 0.9875\n",
      "Epoch 40/100\n",
      "320/320 [==============================] - ETA: 0s - loss: 5.2154e-09 - accuracy: 1.0000WARNING:tensorflow:Can save best model only with val_acc available, skipping.\n",
      "320/320 [==============================] - 121s 378ms/step - loss: 5.2154e-09 - accuracy: 1.0000 - val_loss: 0.0474 - val_accuracy: 0.9875\n",
      "Epoch 41/100\n",
      "320/320 [==============================] - ETA: 0s - loss: 5.9605e-09 - accuracy: 1.0000WARNING:tensorflow:Can save best model only with val_acc available, skipping.\n",
      "320/320 [==============================] - 120s 377ms/step - loss: 5.9605e-09 - accuracy: 1.0000 - val_loss: 0.0508 - val_accuracy: 0.9875\n",
      "Epoch 42/100\n",
      "320/320 [==============================] - ETA: 0s - loss: 3.3528e-09 - accuracy: 1.0000WARNING:tensorflow:Can save best model only with val_acc available, skipping.\n",
      "320/320 [==============================] - 121s 379ms/step - loss: 3.3528e-09 - accuracy: 1.0000 - val_loss: 0.0491 - val_accuracy: 0.9875\n",
      "Epoch 43/100\n",
      "320/320 [==============================] - ETA: 0s - loss: 2.9802e-09 - accuracy: 1.0000WARNING:tensorflow:Can save best model only with val_acc available, skipping.\n",
      "320/320 [==============================] - 121s 380ms/step - loss: 2.9802e-09 - accuracy: 1.0000 - val_loss: 0.0539 - val_accuracy: 0.9875\n",
      "Epoch 44/100\n",
      "320/320 [==============================] - ETA: 0s - loss: 2.2352e-09 - accuracy: 1.0000WARNING:tensorflow:Can save best model only with val_acc available, skipping.\n",
      "320/320 [==============================] - 120s 376ms/step - loss: 2.2352e-09 - accuracy: 1.0000 - val_loss: 0.0536 - val_accuracy: 0.9875\n",
      "Epoch 45/100\n",
      "320/320 [==============================] - ETA: 0s - loss: 1.8626e-09 - accuracy: 1.0000WARNING:tensorflow:Can save best model only with val_acc available, skipping.\n",
      "320/320 [==============================] - 121s 377ms/step - loss: 1.8626e-09 - accuracy: 1.0000 - val_loss: 0.0482 - val_accuracy: 0.9875\n",
      "Epoch 46/100\n",
      "320/320 [==============================] - ETA: 0s - loss: 1.8626e-09 - accuracy: 1.0000WARNING:tensorflow:Can save best model only with val_acc available, skipping.\n",
      "320/320 [==============================] - 120s 375ms/step - loss: 1.8626e-09 - accuracy: 1.0000 - val_loss: 0.0517 - val_accuracy: 0.9875\n",
      "Epoch 47/100\n",
      "320/320 [==============================] - ETA: 0s - loss: 2.2352e-09 - accuracy: 1.0000WARNING:tensorflow:Can save best model only with val_acc available, skipping.\n",
      "320/320 [==============================] - 120s 376ms/step - loss: 2.2352e-09 - accuracy: 1.0000 - val_loss: 0.0483 - val_accuracy: 0.9875\n",
      "Epoch 48/100\n",
      "320/320 [==============================] - ETA: 0s - loss: 1.4901e-09 - accuracy: 1.0000WARNING:tensorflow:Can save best model only with val_acc available, skipping.\n",
      "320/320 [==============================] - 120s 376ms/step - loss: 1.4901e-09 - accuracy: 1.0000 - val_loss: 0.0480 - val_accuracy: 0.9875\n",
      "Epoch 49/100\n",
      "320/320 [==============================] - ETA: 0s - loss: 2.2352e-09 - accuracy: 1.0000WARNING:tensorflow:Can save best model only with val_acc available, skipping.\n",
      "320/320 [==============================] - 121s 377ms/step - loss: 2.2352e-09 - accuracy: 1.0000 - val_loss: 0.0493 - val_accuracy: 0.9875\n",
      "Epoch 50/100\n",
      "320/320 [==============================] - ETA: 0s - loss: 1.4901e-09 - accuracy: 1.0000WARNING:tensorflow:Can save best model only with val_acc available, skipping.\n",
      "320/320 [==============================] - 121s 379ms/step - loss: 1.4901e-09 - accuracy: 1.0000 - val_loss: 0.0447 - val_accuracy: 0.9875\n",
      "Epoch 51/100\n",
      "320/320 [==============================] - ETA: 0s - loss: 7.4506e-10 - accuracy: 1.0000WARNING:tensorflow:Can save best model only with val_acc available, skipping.\n",
      "320/320 [==============================] - 120s 376ms/step - loss: 7.4506e-10 - accuracy: 1.0000 - val_loss: 0.0484 - val_accuracy: 0.9875\n",
      "Epoch 52/100\n",
      "320/320 [==============================] - ETA: 0s - loss: 1.1176e-09 - accuracy: 1.0000WARNING:tensorflow:Can save best model only with val_acc available, skipping.\n",
      "320/320 [==============================] - 120s 377ms/step - loss: 1.1176e-09 - accuracy: 1.0000 - val_loss: 0.0502 - val_accuracy: 0.9875\n"
     ]
    },
    {
     "name": "stdout",
     "output_type": "stream",
     "text": [
      "Epoch 53/100\n",
      "320/320 [==============================] - ETA: 0s - loss: 7.4506e-10 - accuracy: 1.0000WARNING:tensorflow:Can save best model only with val_acc available, skipping.\n",
      "320/320 [==============================] - 120s 376ms/step - loss: 7.4506e-10 - accuracy: 1.0000 - val_loss: 0.0532 - val_accuracy: 0.9875\n",
      "Epoch 54/100\n",
      "320/320 [==============================] - ETA: 0s - loss: 1.1176e-09 - accuracy: 1.0000WARNING:tensorflow:Can save best model only with val_acc available, skipping.\n",
      "320/320 [==============================] - 121s 380ms/step - loss: 1.1176e-09 - accuracy: 1.0000 - val_loss: 0.0424 - val_accuracy: 0.9875\n",
      "Epoch 55/100\n",
      "320/320 [==============================] - ETA: 0s - loss: 7.4506e-10 - accuracy: 1.0000WARNING:tensorflow:Can save best model only with val_acc available, skipping.\n",
      "320/320 [==============================] - 121s 377ms/step - loss: 7.4506e-10 - accuracy: 1.0000 - val_loss: 0.0420 - val_accuracy: 0.9875\n",
      "Epoch 56/100\n",
      "320/320 [==============================] - ETA: 0s - loss: 7.4506e-10 - accuracy: 1.0000WARNING:tensorflow:Can save best model only with val_acc available, skipping.\n",
      "320/320 [==============================] - 120s 376ms/step - loss: 7.4506e-10 - accuracy: 1.0000 - val_loss: 0.0501 - val_accuracy: 0.9875\n",
      "Epoch 57/100\n",
      "320/320 [==============================] - ETA: 0s - loss: 3.7253e-10 - accuracy: 1.0000WARNING:tensorflow:Can save best model only with val_acc available, skipping.\n",
      "320/320 [==============================] - 120s 376ms/step - loss: 3.7253e-10 - accuracy: 1.0000 - val_loss: 0.0438 - val_accuracy: 0.9875\n",
      "Epoch 58/100\n",
      "320/320 [==============================] - ETA: 0s - loss: 3.7253e-10 - accuracy: 1.0000WARNING:tensorflow:Can save best model only with val_acc available, skipping.\n",
      "320/320 [==============================] - 121s 377ms/step - loss: 3.7253e-10 - accuracy: 1.0000 - val_loss: 0.0486 - val_accuracy: 0.9875\n",
      "Epoch 59/100\n",
      "320/320 [==============================] - ETA: 0s - loss: 3.7253e-10 - accuracy: 1.0000WARNING:tensorflow:Can save best model only with val_acc available, skipping.\n",
      "320/320 [==============================] - 120s 375ms/step - loss: 3.7253e-10 - accuracy: 1.0000 - val_loss: 0.0491 - val_accuracy: 0.9875\n",
      "Epoch 60/100\n",
      "320/320 [==============================] - ETA: 0s - loss: 3.7253e-10 - accuracy: 1.0000WARNING:tensorflow:Can save best model only with val_acc available, skipping.\n",
      "320/320 [==============================] - 121s 377ms/step - loss: 3.7253e-10 - accuracy: 1.0000 - val_loss: 0.0508 - val_accuracy: 0.9875\n",
      "Epoch 61/100\n",
      "320/320 [==============================] - ETA: 0s - loss: 3.7253e-10 - accuracy: 1.0000WARNING:tensorflow:Can save best model only with val_acc available, skipping.\n",
      "320/320 [==============================] - 121s 377ms/step - loss: 3.7253e-10 - accuracy: 1.0000 - val_loss: 0.0535 - val_accuracy: 0.9875\n",
      "Epoch 62/100\n",
      "320/320 [==============================] - ETA: 0s - loss: 3.7253e-10 - accuracy: 1.0000WARNING:tensorflow:Can save best model only with val_acc available, skipping.\n",
      "320/320 [==============================] - 121s 379ms/step - loss: 3.7253e-10 - accuracy: 1.0000 - val_loss: 0.0520 - val_accuracy: 0.9875\n",
      "Epoch 63/100\n",
      "320/320 [==============================] - ETA: 0s - loss: 3.7253e-10 - accuracy: 1.0000WARNING:tensorflow:Can save best model only with val_acc available, skipping.\n",
      "320/320 [==============================] - 125s 392ms/step - loss: 3.7253e-10 - accuracy: 1.0000 - val_loss: 0.0554 - val_accuracy: 0.9875\n",
      "Epoch 64/100\n",
      "320/320 [==============================] - ETA: 0s - loss: 7.4506e-10 - accuracy: 1.0000WARNING:tensorflow:Can save best model only with val_acc available, skipping.\n",
      "320/320 [==============================] - 125s 390ms/step - loss: 7.4506e-10 - accuracy: 1.0000 - val_loss: 0.0505 - val_accuracy: 0.9875\n",
      "Epoch 65/100\n",
      "320/320 [==============================] - ETA: 0s - loss: 0.0000e+00 - accuracy: 1.0000WARNING:tensorflow:Can save best model only with val_acc available, skipping.\n",
      "320/320 [==============================] - 124s 386ms/step - loss: 0.0000e+00 - accuracy: 1.0000 - val_loss: 0.0503 - val_accuracy: 0.9875\n",
      "Epoch 66/100\n",
      "320/320 [==============================] - ETA: 0s - loss: 0.0000e+00 - accuracy: 1.0000WARNING:tensorflow:Can save best model only with val_acc available, skipping.\n",
      "320/320 [==============================] - 124s 389ms/step - loss: 0.0000e+00 - accuracy: 1.0000 - val_loss: 0.0489 - val_accuracy: 0.9875\n",
      "Epoch 67/100\n",
      "320/320 [==============================] - ETA: 0s - loss: 0.0000e+00 - accuracy: 1.0000WARNING:tensorflow:Can save best model only with val_acc available, skipping.\n",
      "320/320 [==============================] - 124s 388ms/step - loss: 0.0000e+00 - accuracy: 1.0000 - val_loss: 0.0517 - val_accuracy: 0.9875\n",
      "Epoch 68/100\n",
      "320/320 [==============================] - ETA: 0s - loss: 0.0000e+00 - accuracy: 1.0000WARNING:tensorflow:Can save best model only with val_acc available, skipping.\n",
      "320/320 [==============================] - 123s 386ms/step - loss: 0.0000e+00 - accuracy: 1.0000 - val_loss: 0.0474 - val_accuracy: 0.9875\n",
      "Epoch 69/100\n",
      "320/320 [==============================] - ETA: 0s - loss: 3.7253e-10 - accuracy: 1.0000WARNING:tensorflow:Can save best model only with val_acc available, skipping.\n",
      "320/320 [==============================] - 124s 387ms/step - loss: 3.7253e-10 - accuracy: 1.0000 - val_loss: 0.0559 - val_accuracy: 0.9875\n",
      "Epoch 70/100\n",
      "320/320 [==============================] - ETA: 0s - loss: 3.7253e-10 - accuracy: 1.0000WARNING:tensorflow:Can save best model only with val_acc available, skipping.\n",
      "320/320 [==============================] - 125s 391ms/step - loss: 3.7253e-10 - accuracy: 1.0000 - val_loss: 0.0304 - val_accuracy: 0.9875\n",
      "Epoch 71/100\n",
      "320/320 [==============================] - ETA: 0s - loss: 2.6077e-09 - accuracy: 1.0000WARNING:tensorflow:Can save best model only with val_acc available, skipping.\n",
      "320/320 [==============================] - 130s 407ms/step - loss: 2.6077e-09 - accuracy: 1.0000 - val_loss: 0.0199 - val_accuracy: 0.9875\n",
      "Epoch 72/100\n",
      "320/320 [==============================] - ETA: 0s - loss: 1.2319 - accuracy: 0.7312WARNING:tensorflow:Can save best model only with val_acc available, skipping.\n",
      "320/320 [==============================] - 121s 380ms/step - loss: 1.2319 - accuracy: 0.7312 - val_loss: 0.6693 - val_accuracy: 0.7375\n",
      "Epoch 73/100\n",
      "320/320 [==============================] - ETA: 0s - loss: 0.5564 - accuracy: 0.8344WARNING:tensorflow:Can save best model only with val_acc available, skipping.\n",
      "320/320 [==============================] - 121s 377ms/step - loss: 0.5564 - accuracy: 0.8344 - val_loss: 0.3766 - val_accuracy: 0.8250\n",
      "Epoch 74/100\n",
      "320/320 [==============================] - ETA: 0s - loss: 0.0979 - accuracy: 0.9750WARNING:tensorflow:Can save best model only with val_acc available, skipping.\n",
      "320/320 [==============================] - 122s 381ms/step - loss: 0.0979 - accuracy: 0.9750 - val_loss: 0.0842 - val_accuracy: 0.9500\n",
      "Epoch 75/100\n",
      "320/320 [==============================] - ETA: 0s - loss: 0.0022 - accuracy: 1.0000WARNING:tensorflow:Can save best model only with val_acc available, skipping.\n",
      "320/320 [==============================] - 117s 364ms/step - loss: 0.0022 - accuracy: 1.0000 - val_loss: 0.0345 - val_accuracy: 0.9750\n",
      "Epoch 76/100\n",
      "320/320 [==============================] - ETA: 0s - loss: 1.9785e-04 - accuracy: 1.0000WARNING:tensorflow:Can save best model only with val_acc available, skipping.\n",
      "320/320 [==============================] - 119s 371ms/step - loss: 1.9785e-04 - accuracy: 1.0000 - val_loss: 0.0263 - val_accuracy: 0.9875\n",
      "Epoch 77/100\n",
      "320/320 [==============================] - ETA: 0s - loss: 1.0607e-04 - accuracy: 1.0000WARNING:tensorflow:Can save best model only with val_acc available, skipping.\n",
      "320/320 [==============================] - 120s 376ms/step - loss: 1.0607e-04 - accuracy: 1.0000 - val_loss: 0.0421 - val_accuracy: 0.9750\n",
      "Epoch 78/100\n",
      "320/320 [==============================] - ETA: 0s - loss: 3.4940e-05 - accuracy: 1.0000WARNING:tensorflow:Can save best model only with val_acc available, skipping.\n",
      "320/320 [==============================] - 121s 377ms/step - loss: 3.4940e-05 - accuracy: 1.0000 - val_loss: 0.0510 - val_accuracy: 0.9875\n"
     ]
    },
    {
     "name": "stdout",
     "output_type": "stream",
     "text": [
      "Epoch 79/100\n",
      "320/320 [==============================] - ETA: 0s - loss: 1.3704e-05 - accuracy: 1.0000WARNING:tensorflow:Can save best model only with val_acc available, skipping.\n",
      "320/320 [==============================] - 120s 376ms/step - loss: 1.3704e-05 - accuracy: 1.0000 - val_loss: 0.0596 - val_accuracy: 0.9875\n",
      "Epoch 80/100\n",
      "320/320 [==============================] - ETA: 0s - loss: 7.7271e-06 - accuracy: 1.0000WARNING:tensorflow:Can save best model only with val_acc available, skipping.\n",
      "320/320 [==============================] - 121s 377ms/step - loss: 7.7271e-06 - accuracy: 1.0000 - val_loss: 0.0556 - val_accuracy: 0.9875\n",
      "Epoch 81/100\n",
      "320/320 [==============================] - ETA: 0s - loss: 5.3760e-06 - accuracy: 1.0000WARNING:tensorflow:Can save best model only with val_acc available, skipping.\n",
      "320/320 [==============================] - 120s 376ms/step - loss: 5.3760e-06 - accuracy: 1.0000 - val_loss: 0.0559 - val_accuracy: 0.9875\n",
      "Epoch 82/100\n",
      "320/320 [==============================] - ETA: 0s - loss: 3.2096e-06 - accuracy: 1.0000WARNING:tensorflow:Can save best model only with val_acc available, skipping.\n",
      "320/320 [==============================] - 121s 378ms/step - loss: 3.2096e-06 - accuracy: 1.0000 - val_loss: 0.0514 - val_accuracy: 0.9875\n",
      "Epoch 83/100\n",
      "320/320 [==============================] - ETA: 0s - loss: 2.3476e-06 - accuracy: 1.0000WARNING:tensorflow:Can save best model only with val_acc available, skipping.\n",
      "320/320 [==============================] - 121s 377ms/step - loss: 2.3476e-06 - accuracy: 1.0000 - val_loss: 0.0632 - val_accuracy: 0.9875\n",
      "Epoch 84/100\n",
      "320/320 [==============================] - ETA: 0s - loss: 1.8615e-06 - accuracy: 1.0000WARNING:tensorflow:Can save best model only with val_acc available, skipping.\n",
      "320/320 [==============================] - 120s 377ms/step - loss: 1.8615e-06 - accuracy: 1.0000 - val_loss: 0.0623 - val_accuracy: 0.9875\n",
      "Epoch 85/100\n",
      "320/320 [==============================] - ETA: 0s - loss: 9.9464e-07 - accuracy: 1.0000WARNING:tensorflow:Can save best model only with val_acc available, skipping.\n",
      "320/320 [==============================] - 121s 377ms/step - loss: 9.9464e-07 - accuracy: 1.0000 - val_loss: 0.0553 - val_accuracy: 0.9875\n",
      "Epoch 86/100\n",
      "320/320 [==============================] - ETA: 0s - loss: 7.5362e-07 - accuracy: 1.0000WARNING:tensorflow:Can save best model only with val_acc available, skipping.\n",
      "320/320 [==============================] - 121s 377ms/step - loss: 7.5362e-07 - accuracy: 1.0000 - val_loss: 0.0585 - val_accuracy: 0.9875\n",
      "Epoch 87/100\n",
      "320/320 [==============================] - ETA: 0s - loss: 5.6400e-07 - accuracy: 1.0000WARNING:tensorflow:Can save best model only with val_acc available, skipping.\n",
      "320/320 [==============================] - 121s 377ms/step - loss: 5.6400e-07 - accuracy: 1.0000 - val_loss: 0.0765 - val_accuracy: 0.9750\n",
      "Epoch 88/100\n",
      "320/320 [==============================] - ETA: 0s - loss: 4.8242e-07 - accuracy: 1.0000WARNING:tensorflow:Can save best model only with val_acc available, skipping.\n",
      "320/320 [==============================] - 120s 376ms/step - loss: 4.8242e-07 - accuracy: 1.0000 - val_loss: 0.0687 - val_accuracy: 0.9750\n",
      "Epoch 89/100\n",
      "320/320 [==============================] - ETA: 0s - loss: 2.9914e-07 - accuracy: 1.0000WARNING:tensorflow:Can save best model only with val_acc available, skipping.\n",
      "320/320 [==============================] - 121s 378ms/step - loss: 2.9914e-07 - accuracy: 1.0000 - val_loss: 0.0836 - val_accuracy: 0.9750\n",
      "Epoch 90/100\n",
      "320/320 [==============================] - ETA: 0s - loss: 2.4699e-07 - accuracy: 1.0000WARNING:tensorflow:Can save best model only with val_acc available, skipping.\n",
      "320/320 [==============================] - 121s 377ms/step - loss: 2.4699e-07 - accuracy: 1.0000 - val_loss: 0.0691 - val_accuracy: 0.9750\n",
      "Epoch 91/100\n",
      "320/320 [==============================] - ETA: 0s - loss: 2.1979e-07 - accuracy: 1.0000WARNING:tensorflow:Can save best model only with val_acc available, skipping.\n",
      "320/320 [==============================] - 121s 380ms/step - loss: 2.1979e-07 - accuracy: 1.0000 - val_loss: 0.0675 - val_accuracy: 0.9750\n",
      "Epoch 92/100\n",
      "320/320 [==============================] - ETA: 0s - loss: 1.4901e-07 - accuracy: 1.0000WARNING:tensorflow:Can save best model only with val_acc available, skipping.\n",
      "320/320 [==============================] - 121s 378ms/step - loss: 1.4901e-07 - accuracy: 1.0000 - val_loss: 0.0717 - val_accuracy: 0.9750\n",
      "Epoch 93/100\n",
      "320/320 [==============================] - ETA: 0s - loss: 1.1921e-07 - accuracy: 1.0000WARNING:tensorflow:Can save best model only with val_acc available, skipping.\n",
      "320/320 [==============================] - 121s 378ms/step - loss: 1.1921e-07 - accuracy: 1.0000 - val_loss: 0.0724 - val_accuracy: 0.9750\n",
      "Epoch 94/100\n",
      "320/320 [==============================] - ETA: 0s - loss: 9.7230e-08 - accuracy: 1.0000WARNING:tensorflow:Can save best model only with val_acc available, skipping.\n",
      "320/320 [==============================] - 121s 378ms/step - loss: 9.7230e-08 - accuracy: 1.0000 - val_loss: 0.0777 - val_accuracy: 0.9750\n",
      "Epoch 95/100\n",
      "320/320 [==============================] - ETA: 0s - loss: 8.2329e-08 - accuracy: 1.0000WARNING:tensorflow:Can save best model only with val_acc available, skipping.\n",
      "320/320 [==============================] - 121s 379ms/step - loss: 8.2329e-08 - accuracy: 1.0000 - val_loss: 0.0772 - val_accuracy: 0.9750\n",
      "Epoch 96/100\n",
      "320/320 [==============================] - ETA: 0s - loss: 6.3330e-08 - accuracy: 1.0000WARNING:tensorflow:Can save best model only with val_acc available, skipping.\n",
      "320/320 [==============================] - 121s 377ms/step - loss: 6.3330e-08 - accuracy: 1.0000 - val_loss: 0.0746 - val_accuracy: 0.9750\n",
      "Epoch 97/100\n",
      "320/320 [==============================] - ETA: 0s - loss: 4.2841e-08 - accuracy: 1.0000WARNING:tensorflow:Can save best model only with val_acc available, skipping.\n",
      "320/320 [==============================] - 121s 378ms/step - loss: 4.2841e-08 - accuracy: 1.0000 - val_loss: 0.0883 - val_accuracy: 0.9750\n",
      "Epoch 98/100\n",
      "320/320 [==============================] - ETA: 0s - loss: 3.3155e-08 - accuracy: 1.0000WARNING:tensorflow:Can save best model only with val_acc available, skipping.\n",
      "320/320 [==============================] - 121s 377ms/step - loss: 3.3155e-08 - accuracy: 1.0000 - val_loss: 0.0812 - val_accuracy: 0.9750\n",
      "Epoch 99/100\n",
      "320/320 [==============================] - ETA: 0s - loss: 2.8312e-08 - accuracy: 1.0000WARNING:tensorflow:Can save best model only with val_acc available, skipping.\n",
      "320/320 [==============================] - 120s 376ms/step - loss: 2.8312e-08 - accuracy: 1.0000 - val_loss: 0.0834 - val_accuracy: 0.9750\n",
      "Epoch 100/100\n",
      "320/320 [==============================] - ETA: 0s - loss: 2.4587e-08 - accuracy: 1.0000WARNING:tensorflow:Can save best model only with val_acc available, skipping.\n",
      "320/320 [==============================] - 121s 377ms/step - loss: 2.4587e-08 - accuracy: 1.0000 - val_loss: 0.0843 - val_accuracy: 0.9750\n"
     ]
    }
   ],
   "source": [
    "checkpoint = ModelCheckpoint('deepPolyNetUV.hdf5', monitor='val_acc', verbose=1, save_best_only=True, mode='max')\n",
    "\n",
    "# fine-tune the model\n",
    "history = new_model.fit_generator(\n",
    "    train_generator,\n",
    "    epochs=100,\n",
    "    validation_data=validation_generator,\n",
    "    callbacks=[checkpoint])\n",
    "new_model.save('deepPolyNetUV.hdf5')"
   ]
  },
  {
   "cell_type": "code",
   "execution_count": 6,
   "metadata": {},
   "outputs": [],
   "source": [
    "## learning curve function define\n",
    "def plot_accuracy_and_loss(history):\n",
    "    acc = history.history['acc']\n",
    "    val_acc = history.history['val_acc']\n",
    "    loss = history.history['loss']\n",
    "    val_loss = history.history['val_loss']\n",
    "\n",
    "    epochs = range(1, len(acc) + 1)\n",
    "\n",
    "    plt.plot(epochs, acc, 'bo', label='Training acc')\n",
    "    plt.plot(epochs, val_acc, 'b', label='Validation acc')\n",
    "    plt.title('Training and validation accuracy')\n",
    "    plt.legend()\n",
    "    plt.show()\n",
    "\n",
    "    plt.plot(epochs, loss, 'bo', label='Training loss')\n",
    "    plt.plot(epochs, val_loss, 'b', label='Validation loss')\n",
    "    plt.title('Training and validation loss')\n",
    "    plt.legend()\n",
    "    plt.show()"
   ]
  },
  {
   "cell_type": "code",
   "execution_count": 7,
   "metadata": {},
   "outputs": [
    {
     "data": {
      "text/plain": [
       "<Figure size 921.6x691.2 with 0 Axes>"
      ]
     },
     "execution_count": 7,
     "metadata": {},
     "output_type": "execute_result"
    },
    {
     "data": {
      "image/png": "[encoded data removed]",
      "text/plain": [
       "<Figure size 921.6x691.2 with 1 Axes>"
      ]
     },
     "metadata": {},
     "output_type": "display_data"
    },
    {
     "data": {
      "text/plain": [
       "<Figure size 921.6x691.2 with 0 Axes>"
      ]
     },
     "metadata": {},
     "output_type": "display_data"
    }
   ],
   "source": [
    "import seaborn as sns\n",
    "\n",
    "sns.set(rc={'figure.figsize':(12.8,9.6)})\n",
    "sns.set(font_scale=2.6,style=\"white\")\n",
    "acc = history.history['accuracy']\n",
    "val_acc = history.history[ 'val_accuracy']\n",
    "loss = history.history['loss']\n",
    "val_loss = history.history['val_loss']\n",
    "\n",
    "epochs   = range(len(acc)) \n",
    "plt.plot(epochs, acc)\n",
    "plt.plot(epochs, val_acc)\n",
    "plt.title('Training and validation accuracy')\n",
    "plt.figure()"
   ]
  },
  {
   "cell_type": "code",
   "execution_count": 8,
   "metadata": {},
   "outputs": [
    {
     "data": {
      "text/plain": [
       "Text(0.5, 1.0, 'Training and validation loss')"
      ]
     },
     "execution_count": 8,
     "metadata": {},
     "output_type": "execute_result"
    },
    {
     "data": {
      "image/png": "[encoded data removed]",
      "text/plain": [
       "<Figure size 921.6x691.2 with 1 Axes>"
      ]
     },
     "metadata": {},
     "output_type": "display_data"
    }
   ],
   "source": [
    "## Loss curve plot\n",
    "plt.plot(epochs, loss)\n",
    "plt.plot(epochs, val_loss)\n",
    "plt.title('Training and validation loss')"
   ]
  },
  {
   "cell_type": "code",
   "execution_count": 9,
   "metadata": {},
   "outputs": [
    {
     "name": "stderr",
     "output_type": "stream",
     "text": [
      "C:\\Users\\mrche\\AppData\\Local\\Temp\\ipykernel_21716\\3330199934.py:4: UserWarning: `Model.predict_generator` is deprecated and will be removed in a future version. Please use `Model.predict`, which supports generators.\n",
      "  Y_pred = new_model.predict_generator(validation_generator)\n"
     ]
    }
   ],
   "source": [
    "from sklearn.metrics import classification_report\n",
    "from sklearn.metrics import confusion_matrix\n",
    "\n",
    "Y_pred = new_model.predict_generator(validation_generator)\n",
    "y_pred = np.argmax(Y_pred, axis=1)"
   ]
  },
  {
   "cell_type": "code",
   "execution_count": 10,
   "metadata": {},
   "outputs": [
    {
     "name": "stdout",
     "output_type": "stream",
     "text": [
      "PMMA0\\009.png\n"
     ]
    },
    {
     "name": "stderr",
     "output_type": "stream",
     "text": [
      "C:\\Users\\mrche\\AppData\\Local\\Temp\\ipykernel_21716\\4045619818.py:2: DeprecationWarning: elementwise comparison failed; this will raise an error in the future.\n",
      "  errors = np.where(Y_pred != validation_generator.classes)[0] ## misclassifications done on the test data where y_pred is the predicted values\n"
     ]
    }
   ],
   "source": [
    "fnames = validation_generator.filenames ## fnames is all the filenames/samples used in testing\n",
    "errors = np.where(Y_pred != validation_generator.classes)[0] ## misclassifications done on the test data where y_pred is the predicted values\n",
    "for i in errors:\n",
    "    print(fnames[i])"
   ]
  },
  {
   "cell_type": "code",
   "execution_count": 11,
   "metadata": {},
   "outputs": [
    {
     "data": {
      "text/plain": [
       "array([0, 0, 0, 0, 0, 0, 0, 0, 0, 0, 1, 1, 1, 1, 1, 1, 1, 1, 1, 1, 2, 2,\n",
       "       2, 2, 2, 2, 2, 2, 2, 2, 3, 3, 3, 3, 3, 3, 3, 3, 3, 3, 4, 4, 4, 4,\n",
       "       4, 4, 4, 4, 4, 4, 5, 5, 5, 5, 5, 5, 5, 5, 5, 5, 6, 6, 6, 6, 6, 6,\n",
       "       6, 6, 6, 6, 7, 7, 7, 7, 7, 7, 7, 7, 7, 7])"
      ]
     },
     "execution_count": 11,
     "metadata": {},
     "output_type": "execute_result"
    }
   ],
   "source": [
    "validation_generator.classes"
   ]
  },
  {
   "cell_type": "code",
   "execution_count": 12,
   "metadata": {},
   "outputs": [],
   "source": [
    "import numpy as np\n",
    "import pandas as pd\n",
    "import matplotlib.pyplot as plt\n",
    "from sklearn.metrics import confusion_matrix  #Required input to plot_confusion_matrix\n",
    "import seaborn as sns\n",
    "\n",
    "def plot_confusion_matrix(confusion_matrix, class_names, errors_only=False, figsize = (15,6), fontsize=16):\n",
    "    \"\"\"\n",
    "    Plots confusion matrix as a color-encoded Seaborn heatmap.  Zeroes are\n",
    "    colored white.  Normalized values that are zero when rounded to three\n",
    "    decimals, Ex. 0.000, will be colored white.  Get more decicmals by\n",
    "    updating fmt, for example to '0.4f', and updating get_text() value.\n",
    "    \n",
    "    Arguments\n",
    "    ---------\n",
    "    confusion_matrix: numpy.ndarray\n",
    "        The numpy.ndarray object sklearn.metrics.confusion_matrix. \n",
    "    class_names: list\n",
    "        List of class names in the order they index the confusion matrix.\n",
    "    figsize: tuple\n",
    "        A pair tuple.  The first value is figure width.  The second\n",
    "        value is figure height. Defaults to (15,6).\n",
    "    fontsize: int\n",
    "        Font size for axes labels. Defaults to 16.\n",
    "    \"\"\"        \n",
    "    #Instantiate Figure\n",
    "    fig, (ax1, ax2) = plt.subplots(nrows=1, ncols=2, figsize=figsize)\n",
    "    plt.subplots_adjust(wspace = 0.5)\n",
    "    \n",
    "    #Show errors only by filling diagonal with zeroes.\n",
    "    if errors_only:\n",
    "        np.fill_diagonal(confusion_matrix, 0)        \n",
    "        \n",
    "    # ax1 - Normalized Confusion Matrix    \n",
    "    #Normalize by dividing (M X M) matrix by (M X 1) matrix.  (M X 1) is row totals.\n",
    "    conf_matrix_norm = confusion_matrix.astype('float') / confusion_matrix.sum(axis=1)[:,np.newaxis]\n",
    "    conf_matrix_norm = np.nan_to_num(conf_matrix_norm)  #fix any nans caused by zero row total\n",
    "    df_cm_norm = pd.DataFrame(conf_matrix_norm, index=class_names, columns=class_names)\n",
    "    heatmap = sns.heatmap(df_cm_norm, ax=ax1, cmap='Blues', fmt='.3f', annot=True, annot_kws={\"size\": fontsize},\n",
    "              linewidths=2, linecolor='black', cbar=False)\n",
    "    \n",
    "    ax1.tick_params(axis='x', labelrotation=0, labelsize=fontsize, labelcolor='black')\n",
    "    ax1.tick_params(axis='y', labelrotation=0, labelsize=fontsize, labelcolor='black')\n",
    "    ax1.set_ylim(ax1.get_xlim()[0], ax1.get_xlim()[1])  #Fix messed up ylim\n",
    "    ax1.set_xlabel('PREDICTED CLASS', fontsize=fontsize, color='black')\n",
    "    ax1.set_ylabel('TRUE CLASS', fontsize=fontsize, color='black')\n",
    "    ax1.set_title('Confusion Matrix - Normalized', pad=15, fontsize=fontsize, color='black')\n",
    "    \n",
    "    # ax2 - Confusion Matrix - Class Counts\n",
    "    df_cm = pd.DataFrame(confusion_matrix, index=class_names, columns=class_names)    \n",
    "    heatmap = sns.heatmap(df_cm, ax=ax2, cmap='Blues', fmt='d', annot=True, annot_kws={\"size\": fontsize+4},\n",
    "              linewidths=2, linecolor='black', cbar=False)   \n",
    "    \n",
    "    ax2.tick_params(axis='x', labelrotation=0, labelsize=fontsize, labelcolor='black')\n",
    "    ax2.tick_params(axis='y', labelrotation=0, labelsize=fontsize, labelcolor='black')\n",
    "    ax2.set_ylim(ax1.get_xlim()[0], ax1.get_xlim()[1])  #Fix bug in matplotlib 3.1.1.  Or, use earlier matplotlib.\n",
    "    ax2.set_xlabel('PREDICTED CLASS', fontsize=fontsize, color='black')\n",
    "    ax2.set_ylabel('TRUE CLASS', fontsize=fontsize, color='black')\n",
    "    ax2.set_title('Confusion Matrix - Class Counts', pad=15, fontsize=fontsize, color='black')    \n",
    "  \n",
    "    for text in ax1.texts:\n",
    "        if text.get_text() == '0.000':\n",
    "            text.set_color(color='white')            \n",
    "    for text in ax2.texts:\n",
    "        if text.get_text() == '0':\n",
    "            text.set_color(color='white')"
   ]
  },
  {
   "cell_type": "code",
   "execution_count": null,
   "metadata": {},
   "outputs": [],
   "source": [
    "class_labels = ['PS', 'PMMA','PS_PMMA1_3','PS_PMMA2_2','PS_PMMA3_1']\n",
    "cm=confusion_matrix(validation_generator.classes, y_pred)\n",
    "\n",
    "print('\\n*** Sklearn confusion_matrix below.  It is challenging to understand. ***\\n')\n",
    "print(cm)\n",
    "print('\\nThe confusion_matrix labels are:', class_labels,  '\\n...But, how do we read it?')"
   ]
  },
  {
   "cell_type": "code",
   "execution_count": null,
   "metadata": {},
   "outputs": [],
   "source": [
    "#Visualize the confusion matrix using my function.  Both normalized and counts format.\n",
    "#Class pairs are repeated in this format -- for example: (bird, cat) and (cat, bird).\n",
    "#The redundant pair is ignored by hiding the zeroes with white text.\n",
    "\n",
    "print('\\n*** plot_confusion_matrix() function prints heatmaps with captions to improve readability! ***\\n\\n')\n",
    "plot_confusion_matrix(confusion_matrix=cm, class_names=class_labels, errors_only=False, fontsize=10)"
   ]
  },
  {
   "cell_type": "code",
   "execution_count": null,
   "metadata": {},
   "outputs": [],
   "source": []
  }
 ],
 "metadata": {
  "kernelspec": {
   "display_name": "Python 3 (ipykernel)",
   "language": "python",
   "name": "python3"
  },
  "language_info": {
   "codemirror_mode": {
    "name": "ipython",
    "version": 3
   },
   "file_extension": ".py",
   "mimetype": "text/x-python",
   "name": "python",
   "nbconvert_exporter": "python",
   "pygments_lexer": "ipython3",
   "version": "3.10.14"
  }
 },
 "nbformat": 4,
 "nbformat_minor": 4
}
